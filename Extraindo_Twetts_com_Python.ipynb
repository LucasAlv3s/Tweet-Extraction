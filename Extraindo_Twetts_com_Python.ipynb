{
  "nbformat": 4,
  "nbformat_minor": 0,
  "metadata": {
    "colab": {
      "provenance": [],
      "toc_visible": true
    },
    "kernelspec": {
      "name": "python3",
      "display_name": "Python 3"
    },
    "language_info": {
      "name": "python"
    }
  },
  "cells": [
    {
      "cell_type": "markdown",
      "source": [
        "# Extracting Twetts with Python"
      ],
      "metadata": {
        "id": "8y1JaLleTM0U"
      }
    },
    {
      "cell_type": "code",
      "execution_count": 42,
      "metadata": {
        "colab": {
          "base_uri": "https://localhost:8080/"
        },
        "id": "7AayFTmdS8xS",
        "outputId": "ad57250d-544d-46ac-efd0-b2f5c8bbad93"
      },
      "outputs": [
        {
          "output_type": "stream",
          "name": "stdout",
          "text": [
            "Looking in indexes: https://pypi.org/simple, https://us-python.pkg.dev/colab-wheels/public/simple/\n",
            "Requirement already satisfied: snscrape in /usr/local/lib/python3.7/dist-packages (0.3.4)\n",
            "Requirement already satisfied: requests[socks] in /usr/local/lib/python3.7/dist-packages (from snscrape) (2.23.0)\n",
            "Requirement already satisfied: lxml in /usr/local/lib/python3.7/dist-packages (from snscrape) (4.9.1)\n",
            "Requirement already satisfied: beautifulsoup4 in /usr/local/lib/python3.7/dist-packages (from snscrape) (4.6.3)\n",
            "Requirement already satisfied: certifi>=2017.4.17 in /usr/local/lib/python3.7/dist-packages (from requests[socks]->snscrape) (2022.9.24)\n",
            "Requirement already satisfied: chardet<4,>=3.0.2 in /usr/local/lib/python3.7/dist-packages (from requests[socks]->snscrape) (3.0.4)\n",
            "Requirement already satisfied: idna<3,>=2.5 in /usr/local/lib/python3.7/dist-packages (from requests[socks]->snscrape) (2.10)\n",
            "Requirement already satisfied: urllib3!=1.25.0,!=1.25.1,<1.26,>=1.21.1 in /usr/local/lib/python3.7/dist-packages (from requests[socks]->snscrape) (1.24.3)\n",
            "Requirement already satisfied: PySocks!=1.5.7,>=1.5.6 in /usr/local/lib/python3.7/dist-packages (from requests[socks]->snscrape) (1.7.1)\n"
          ]
        }
      ],
      "source": [
        "!pip3 install snscrape"
      ]
    },
    {
      "cell_type": "markdown",
      "source": [
        "### importing modules"
      ],
      "metadata": {
        "id": "IGPVI1IwT0L4"
      }
    },
    {
      "cell_type": "code",
      "source": [
        "import snscrape.modules.twitter as sntwitter\n",
        "import pandas as pd"
      ],
      "metadata": {
        "id": "zbplRkXDTTs2"
      },
      "execution_count": 43,
      "outputs": []
    },
    {
      "cell_type": "markdown",
      "source": [
        "### extraction of tweets"
      ],
      "metadata": {
        "id": "HvoNKSsGWzct"
      }
    },
    {
      "cell_type": "code",
      "source": [
        "maxTweets = 100\n",
        "i = 0\n",
        "tweets_list = []\n",
        "for tweet in sntwitter.TwitterSearchScraper('Fernando Haddad since:2022-10-02 until:2022-10-07').get_items():\n",
        "  if i > maxTweets:\n",
        "    break\n",
        "  tweets_list.append([tweet.date, tweet.url, tweet.username, tweet.content])\n",
        "  i = i + 1"
      ],
      "metadata": {
        "id": "2lloI-QZTwCg"
      },
      "execution_count": 58,
      "outputs": []
    },
    {
      "cell_type": "code",
      "source": [
        "# dataframe de tweets\n",
        "tweets_df = pd.DataFrame(tweets_list, columns=['date', 'url','username', 'content' ])"
      ],
      "metadata": {
        "id": "hcLfLqvcVj97"
      },
      "execution_count": 59,
      "outputs": []
    },
    {
      "cell_type": "code",
      "source": [
        "# visualização do dataframe\n",
        "tweets_df"
      ],
      "metadata": {
        "colab": {
          "base_uri": "https://localhost:8080/",
          "height": 641
        },
        "id": "sbP9qXVJXDL_",
        "outputId": "51c6edd4-b5fb-4b6b-abcd-8bef07227a01"
      },
      "execution_count": 60,
      "outputs": [
        {
          "output_type": "execute_result",
          "data": {
            "text/plain": [
              "                         date  \\\n",
              "0   2022-10-06 23:51:41+00:00   \n",
              "1   2022-10-06 23:47:17+00:00   \n",
              "2   2022-10-06 23:44:23+00:00   \n",
              "3   2022-10-06 23:35:12+00:00   \n",
              "4   2022-10-06 23:34:00+00:00   \n",
              "..                        ...   \n",
              "96  2022-10-06 19:49:57+00:00   \n",
              "97  2022-10-06 19:48:38+00:00   \n",
              "98  2022-10-06 19:46:24+00:00   \n",
              "99  2022-10-06 19:43:03+00:00   \n",
              "100 2022-10-06 19:38:25+00:00   \n",
              "\n",
              "                                                   url         username  \\\n",
              "0    https://twitter.com/Tonico_B22/status/15781711...       Tonico_B22   \n",
              "1    https://twitter.com/RCMotorsport1/status/15781...    RCMotorsport1   \n",
              "2    https://twitter.com/emmaTsxx__/status/15781693...       emmaTsxx__   \n",
              "3    https://twitter.com/deolhonosads/status/157816...     deolhonosads   \n",
              "4    https://twitter.com/nelsonzvolinsk1/status/157...  nelsonzvolinsk1   \n",
              "..                                                 ...              ...   \n",
              "96   https://twitter.com/grudiario/status/157811033...        grudiario   \n",
              "97   https://twitter.com/FsMigueltorres/status/1578...   FsMigueltorres   \n",
              "98   https://twitter.com/Killy941/status/1578109436...         Killy941   \n",
              "99   https://twitter.com/BrunaNegreska/status/15781...    BrunaNegreska   \n",
              "100  https://twitter.com/Leandro09101990/status/157...  Leandro09101990   \n",
              "\n",
              "                                               content  \n",
              "0    Finalmente o Lula admitiu que o PT foi um desa...  \n",
              "1    @Darleen76498559 @economia_cafe @universa_uol ...  \n",
              "2    @Haddad_Fernando Haddad eu vou votar em vc nov...  \n",
              "3    FERNANDO HADDAD GOVERNADOR Teve 💰R$ 798.500,00...  \n",
              "4    @LulaOficial você é sensacional, continue assi...  \n",
              "..                                                 ...  \n",
              "96   O vice Geraldo Alckmin, o candidato ao governo...  \n",
              "97   Com Paulinho da Força e #Haddad13 Solidariedad...  \n",
              "98   @agoraeLula13 @prudentemarlene @Haddad_Fernand...  \n",
              "99   São Paulo aperta 1️⃣3️⃣ para nosso professor @...  \n",
              "100  @Haddad_Fernando Fernando Haddad Governador de...  \n",
              "\n",
              "[101 rows x 4 columns]"
            ],
            "text/html": [
              "\n",
              "  <div id=\"df-4a459e2a-3078-410c-ac89-b2ac1f7a55d9\">\n",
              "    <div class=\"colab-df-container\">\n",
              "      <div>\n",
              "<style scoped>\n",
              "    .dataframe tbody tr th:only-of-type {\n",
              "        vertical-align: middle;\n",
              "    }\n",
              "\n",
              "    .dataframe tbody tr th {\n",
              "        vertical-align: top;\n",
              "    }\n",
              "\n",
              "    .dataframe thead th {\n",
              "        text-align: right;\n",
              "    }\n",
              "</style>\n",
              "<table border=\"1\" class=\"dataframe\">\n",
              "  <thead>\n",
              "    <tr style=\"text-align: right;\">\n",
              "      <th></th>\n",
              "      <th>date</th>\n",
              "      <th>url</th>\n",
              "      <th>username</th>\n",
              "      <th>content</th>\n",
              "    </tr>\n",
              "  </thead>\n",
              "  <tbody>\n",
              "    <tr>\n",
              "      <th>0</th>\n",
              "      <td>2022-10-06 23:51:41+00:00</td>\n",
              "      <td>https://twitter.com/Tonico_B22/status/15781711...</td>\n",
              "      <td>Tonico_B22</td>\n",
              "      <td>Finalmente o Lula admitiu que o PT foi um desa...</td>\n",
              "    </tr>\n",
              "    <tr>\n",
              "      <th>1</th>\n",
              "      <td>2022-10-06 23:47:17+00:00</td>\n",
              "      <td>https://twitter.com/RCMotorsport1/status/15781...</td>\n",
              "      <td>RCMotorsport1</td>\n",
              "      <td>@Darleen76498559 @economia_cafe @universa_uol ...</td>\n",
              "    </tr>\n",
              "    <tr>\n",
              "      <th>2</th>\n",
              "      <td>2022-10-06 23:44:23+00:00</td>\n",
              "      <td>https://twitter.com/emmaTsxx__/status/15781693...</td>\n",
              "      <td>emmaTsxx__</td>\n",
              "      <td>@Haddad_Fernando Haddad eu vou votar em vc nov...</td>\n",
              "    </tr>\n",
              "    <tr>\n",
              "      <th>3</th>\n",
              "      <td>2022-10-06 23:35:12+00:00</td>\n",
              "      <td>https://twitter.com/deolhonosads/status/157816...</td>\n",
              "      <td>deolhonosads</td>\n",
              "      <td>FERNANDO HADDAD GOVERNADOR Teve 💰R$ 798.500,00...</td>\n",
              "    </tr>\n",
              "    <tr>\n",
              "      <th>4</th>\n",
              "      <td>2022-10-06 23:34:00+00:00</td>\n",
              "      <td>https://twitter.com/nelsonzvolinsk1/status/157...</td>\n",
              "      <td>nelsonzvolinsk1</td>\n",
              "      <td>@LulaOficial você é sensacional, continue assi...</td>\n",
              "    </tr>\n",
              "    <tr>\n",
              "      <th>...</th>\n",
              "      <td>...</td>\n",
              "      <td>...</td>\n",
              "      <td>...</td>\n",
              "      <td>...</td>\n",
              "    </tr>\n",
              "    <tr>\n",
              "      <th>96</th>\n",
              "      <td>2022-10-06 19:49:57+00:00</td>\n",
              "      <td>https://twitter.com/grudiario/status/157811033...</td>\n",
              "      <td>grudiario</td>\n",
              "      <td>O vice Geraldo Alckmin, o candidato ao governo...</td>\n",
              "    </tr>\n",
              "    <tr>\n",
              "      <th>97</th>\n",
              "      <td>2022-10-06 19:48:38+00:00</td>\n",
              "      <td>https://twitter.com/FsMigueltorres/status/1578...</td>\n",
              "      <td>FsMigueltorres</td>\n",
              "      <td>Com Paulinho da Força e #Haddad13 Solidariedad...</td>\n",
              "    </tr>\n",
              "    <tr>\n",
              "      <th>98</th>\n",
              "      <td>2022-10-06 19:46:24+00:00</td>\n",
              "      <td>https://twitter.com/Killy941/status/1578109436...</td>\n",
              "      <td>Killy941</td>\n",
              "      <td>@agoraeLula13 @prudentemarlene @Haddad_Fernand...</td>\n",
              "    </tr>\n",
              "    <tr>\n",
              "      <th>99</th>\n",
              "      <td>2022-10-06 19:43:03+00:00</td>\n",
              "      <td>https://twitter.com/BrunaNegreska/status/15781...</td>\n",
              "      <td>BrunaNegreska</td>\n",
              "      <td>São Paulo aperta 1️⃣3️⃣ para nosso professor @...</td>\n",
              "    </tr>\n",
              "    <tr>\n",
              "      <th>100</th>\n",
              "      <td>2022-10-06 19:38:25+00:00</td>\n",
              "      <td>https://twitter.com/Leandro09101990/status/157...</td>\n",
              "      <td>Leandro09101990</td>\n",
              "      <td>@Haddad_Fernando Fernando Haddad Governador de...</td>\n",
              "    </tr>\n",
              "  </tbody>\n",
              "</table>\n",
              "<p>101 rows × 4 columns</p>\n",
              "</div>\n",
              "      <button class=\"colab-df-convert\" onclick=\"convertToInteractive('df-4a459e2a-3078-410c-ac89-b2ac1f7a55d9')\"\n",
              "              title=\"Convert this dataframe to an interactive table.\"\n",
              "              style=\"display:none;\">\n",
              "        \n",
              "  <svg xmlns=\"http://www.w3.org/2000/svg\" height=\"24px\"viewBox=\"0 0 24 24\"\n",
              "       width=\"24px\">\n",
              "    <path d=\"M0 0h24v24H0V0z\" fill=\"none\"/>\n",
              "    <path d=\"M18.56 5.44l.94 2.06.94-2.06 2.06-.94-2.06-.94-.94-2.06-.94 2.06-2.06.94zm-11 1L8.5 8.5l.94-2.06 2.06-.94-2.06-.94L8.5 2.5l-.94 2.06-2.06.94zm10 10l.94 2.06.94-2.06 2.06-.94-2.06-.94-.94-2.06-.94 2.06-2.06.94z\"/><path d=\"M17.41 7.96l-1.37-1.37c-.4-.4-.92-.59-1.43-.59-.52 0-1.04.2-1.43.59L10.3 9.45l-7.72 7.72c-.78.78-.78 2.05 0 2.83L4 21.41c.39.39.9.59 1.41.59.51 0 1.02-.2 1.41-.59l7.78-7.78 2.81-2.81c.8-.78.8-2.07 0-2.86zM5.41 20L4 18.59l7.72-7.72 1.47 1.35L5.41 20z\"/>\n",
              "  </svg>\n",
              "      </button>\n",
              "      \n",
              "  <style>\n",
              "    .colab-df-container {\n",
              "      display:flex;\n",
              "      flex-wrap:wrap;\n",
              "      gap: 12px;\n",
              "    }\n",
              "\n",
              "    .colab-df-convert {\n",
              "      background-color: #E8F0FE;\n",
              "      border: none;\n",
              "      border-radius: 50%;\n",
              "      cursor: pointer;\n",
              "      display: none;\n",
              "      fill: #1967D2;\n",
              "      height: 32px;\n",
              "      padding: 0 0 0 0;\n",
              "      width: 32px;\n",
              "    }\n",
              "\n",
              "    .colab-df-convert:hover {\n",
              "      background-color: #E2EBFA;\n",
              "      box-shadow: 0px 1px 2px rgba(60, 64, 67, 0.3), 0px 1px 3px 1px rgba(60, 64, 67, 0.15);\n",
              "      fill: #174EA6;\n",
              "    }\n",
              "\n",
              "    [theme=dark] .colab-df-convert {\n",
              "      background-color: #3B4455;\n",
              "      fill: #D2E3FC;\n",
              "    }\n",
              "\n",
              "    [theme=dark] .colab-df-convert:hover {\n",
              "      background-color: #434B5C;\n",
              "      box-shadow: 0px 1px 3px 1px rgba(0, 0, 0, 0.15);\n",
              "      filter: drop-shadow(0px 1px 2px rgba(0, 0, 0, 0.3));\n",
              "      fill: #FFFFFF;\n",
              "    }\n",
              "  </style>\n",
              "\n",
              "      <script>\n",
              "        const buttonEl =\n",
              "          document.querySelector('#df-4a459e2a-3078-410c-ac89-b2ac1f7a55d9 button.colab-df-convert');\n",
              "        buttonEl.style.display =\n",
              "          google.colab.kernel.accessAllowed ? 'block' : 'none';\n",
              "\n",
              "        async function convertToInteractive(key) {\n",
              "          const element = document.querySelector('#df-4a459e2a-3078-410c-ac89-b2ac1f7a55d9');\n",
              "          const dataTable =\n",
              "            await google.colab.kernel.invokeFunction('convertToInteractive',\n",
              "                                                     [key], {});\n",
              "          if (!dataTable) return;\n",
              "\n",
              "          const docLinkHtml = 'Like what you see? Visit the ' +\n",
              "            '<a target=\"_blank\" href=https://colab.research.google.com/notebooks/data_table.ipynb>data table notebook</a>'\n",
              "            + ' to learn more about interactive tables.';\n",
              "          element.innerHTML = '';\n",
              "          dataTable['output_type'] = 'display_data';\n",
              "          await google.colab.output.renderOutput(dataTable, element);\n",
              "          const docLink = document.createElement('div');\n",
              "          docLink.innerHTML = docLinkHtml;\n",
              "          element.appendChild(docLink);\n",
              "        }\n",
              "      </script>\n",
              "    </div>\n",
              "  </div>\n",
              "  "
            ]
          },
          "metadata": {},
          "execution_count": 60
        }
      ]
    },
    {
      "cell_type": "code",
      "source": [],
      "metadata": {
        "id": "OQiFAqn-XSeN"
      },
      "execution_count": null,
      "outputs": []
    }
  ]
}